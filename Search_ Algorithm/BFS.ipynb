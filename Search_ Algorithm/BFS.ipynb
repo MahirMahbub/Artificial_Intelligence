{
 "cells": [
  {
   "cell_type": "code",
   "execution_count": 1,
   "metadata": {},
   "outputs": [
    {
     "name": "stdout",
     "output_type": "stream",
     "text": [
      "2 0 3 1 Not Found\n"
     ]
    }
   ],
   "source": [
    "# -*- coding: utf-8 -*-\n",
    "\"\"\"\n",
    "Created on Sun Jun 10 23:17:00 2018\n",
    "\n",
    "@author: Sand Boa\n",
    "\"\"\"\n",
    "\n",
    "from collections import defaultdict\n",
    "import queue as Queue\n",
    "class Graph(object):\n",
    "    \n",
    "    def __init__(self, searched_element):\n",
    "        self.graph =  defaultdict(list)\n",
    "        self.searched_element = searched_element\n",
    "        \n",
    "    def add_edge(self, u, v):\n",
    "        self.graph[u].append(v)\n",
    "    \n",
    "    def bfs(self,node):\n",
    "        visited = [False] * len(self.graph)\n",
    "        _queue = Queue.Queue()\n",
    "        _queue.put(node)\n",
    "        try:\n",
    "            visited[node] = True\n",
    "        except IndexError as i_e:\n",
    "            print(\"Not Found\")\n",
    "            return 0\n",
    "        while not _queue.empty():\n",
    "            node = _queue.get()\n",
    "            print (node, end = \" \")\n",
    "            if node == self.searched_element:\n",
    "                print(\"found\")\n",
    "                return 0\n",
    "            for i in self.graph[node]:\n",
    "                if visited[i] == False:\n",
    "                    _queue.put(i)\n",
    "                    visited[i] = True\n",
    "        print(\"Not Found\")\n",
    "\n",
    "if __name__ == \"__main__\":                    \n",
    "    g = Graph(8)\n",
    "    g.add_edge(0, 1)\n",
    "    g.add_edge(0, 2)\n",
    "    g.add_edge(1, 2)\n",
    "    g.add_edge(2, 0)\n",
    "    g.add_edge(2, 3)\n",
    "    g.add_edge(3, 3)\n",
    "    g.bfs(2)"
   ]
  },
  {
   "cell_type": "code",
   "execution_count": null,
   "metadata": {},
   "outputs": [],
   "source": []
  }
 ],
 "metadata": {
  "language": "python"
 },
 "nbformat": 4,
 "nbformat_minor": 2
}
