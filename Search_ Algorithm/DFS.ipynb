{
 "cells": [
  {
   "cell_type": "code",
   "execution_count": 1,
   "metadata": {},
   "outputs": [
    {
     "name": "stdout",
     "output_type": "stream",
     "text": [
      "0\n1\n2\n3\nNot Found\n"
     ]
    }
   ],
   "source": [
    "\n",
    "from collections import defaultdict\n",
    "from typing import List\n",
    "\n",
    "\n",
    "class Graph(object):\n",
    "\n",
    "    graph: defaultdict(list)\n",
    "    searched_element: int\n",
    "\n",
    "    def __init__(self, searched_element: int):\n",
    "        self.graph = defaultdict(list)\n",
    "        assert isinstance(searched_element, int)\n",
    "        self.searched_element = searched_element\n",
    "\n",
    "    def add_edge(self, u: int, v: int) -> None:\n",
    "        assert isinstance(self.graph[u], List)\n",
    "        self.graph[u].append(v)\n",
    "\n",
    "    def dfs_recursive(self, v: int, visited: List[int]) -> None:\n",
    "        assert isinstance(visited, List)\n",
    "        assert isinstance(v, int)\n",
    "        visited[v] = True\n",
    "        print(v)\n",
    "        if self.searched_element == v:\n",
    "            print(\"Found\")\n",
    "            exit()\n",
    "        for i in self.graph[v]:\n",
    "            if not visited[i]:\n",
    "                self.dfs_recursive(i, visited)\n",
    "\n",
    "    def dfs(self) -> None:\n",
    "        num_child: int = len(self.graph)\n",
    "        visited: List[bool] = [False] * num_child\n",
    "        for i in range(num_child):\n",
    "            if not visited[i]:\n",
    "                self.dfs_recursive(i, visited)\n",
    "        print(\"Not Found\")\n",
    "\n",
    "\n",
    "if __name__ == \"__main__\":\n",
    "    g = Graph(4)\n",
    "    g.add_edge(0, 1)\n",
    "    g.add_edge(0, 2)\n",
    "    g.add_edge(1, 2)\n",
    "    g.add_edge(2, 0)\n",
    "    g.add_edge(2, 3)\n",
    "    g.add_edge(3, 3)\n",
    "    g.dfs()\n"
   ]
  },
  {
   "cell_type": "code",
   "execution_count": null,
   "metadata": {},
   "outputs": [],
   "source": []
  }
 ],
 "metadata": {
  "language": "python"
 },
 "nbformat": 4,
 "nbformat_minor": 2
}
